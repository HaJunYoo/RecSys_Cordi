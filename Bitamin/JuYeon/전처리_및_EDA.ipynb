{
  "nbformat": 4,
  "nbformat_minor": 0,
  "metadata": {
    "colab": {
      "name": "2. 전처리 및 EDA.ipynb",
      "provenance": [],
      "collapsed_sections": [],
      "toc_visible": true,
      "authorship_tag": "ABX9TyN3vBdwvP44LZ3GAR3AglGN",
      "include_colab_link": true
    },
    "kernelspec": {
      "name": "python3",
      "display_name": "Python 3"
    },
    "language_info": {
      "name": "python"
    }
  },
  "cells": [
    {
      "cell_type": "markdown",
      "metadata": {
        "id": "view-in-github",
        "colab_type": "text"
      },
      "source": [
        "<a href=\"https://colab.research.google.com/github/juyeonyoon/RecSys_Cordi/blob/master/%EC%A0%84%EC%B2%98%EB%A6%AC_%EB%B0%8F_EDA.ipynb\" target=\"_parent\"><img src=\"https://colab.research.google.com/assets/colab-badge.svg\" alt=\"Open In Colab\"/></a>"
      ]
    },
    {
      "cell_type": "code",
      "execution_count": null,
      "metadata": {
        "colab": {
          "base_uri": "https://localhost:8080/"
        },
        "id": "o8x-CbhBp6Od",
        "outputId": "61846497-cecf-4827-fd96-95b9ab0af408"
      },
      "outputs": [
        {
          "output_type": "stream",
          "name": "stdout",
          "text": [
            "Mounted at /content/drive\n"
          ]
        }
      ],
      "source": [
        "from google.colab import drive\n",
        "drive.mount('/content/drive')"
      ]
    },
    {
      "cell_type": "code",
      "source": [
        "import pandas as pd\n",
        "import numpy as np"
      ],
      "metadata": {
        "id": "72JJaoTGk3b2"
      },
      "execution_count": null,
      "outputs": []
    },
    {
      "cell_type": "code",
      "source": [
        "path = \"/content/drive/MyDrive/비타민 컨퍼런스/\"\n",
        "\n",
        "musinsa = pd.read_csv(path+\"musinsa_data.csv\")\n",
        "print(musinsa.shape)\n",
        "musinsa.head()"
      ],
      "metadata": {
        "colab": {
          "base_uri": "https://localhost:8080/",
          "height": 526
        },
        "id": "lWZ-Q2OUk-N6",
        "outputId": "672f2ab1-ee90-4682-8ce0-ed566299738e"
      },
      "execution_count": null,
      "outputs": [
        {
          "output_type": "stream",
          "name": "stdout",
          "text": [
            "(65551, 25)\n"
          ]
        },
        {
          "output_type": "execute_result",
          "data": {
            "text/plain": [
              "   Unnamed: 0          name main_category sub_category           brand  \\\n",
              "0           0   NM2DN51A_빅샷            가방           백팩  THE NORTH FACE   \n",
              "1           1    THINK PACK            가방           백팩            YALE   \n",
              "2           2  메쉬 스트링 백팩 블랙            가방           백팩       NEIKIDNIS   \n",
              "3           3    앱솔루트 백팩 블랙            가방           백팩       NEIKIDNIS   \n",
              "4           4  슈퍼브레이크 BLACK            가방           백팩        JANSPORT   \n",
              "\n",
              "         number                                               tags     price  \\\n",
              "0      NM2DN51A           ['가방', '데이팩', '백팩', '빅샷', '신학기백팩', '캠핑']  150,000원   \n",
              "1  YB1BG0031BK0  ['백팩', '노트북백팩', '백팩추천', '데일리백', '코듀라', '로고', '...  119,000원   \n",
              "2    NBP005-101  ['메쉬스트링백팩', '스트링백팩', 'MESHSTRINGBACKPACK', '코듀...   69,000원   \n",
              "3      037ASB06  ['백팩', '앱솔루트', '학생가방', '코듀라', '포켓', '노트북', '커플...   94,000원   \n",
              "4   JS0A4QUT008  ['슈퍼브레이크', '백팩', '가방', '데일리', '여행', '아웃도어', '포켓']   49,000원   \n",
              "\n",
              "   rating  rating_num  ...                 coordi age18 age19_23 age24_28  \\\n",
              "0     4.9     15173.0  ...  ['스트릿', '스포츠', '캐주얼']   32%      27%      21%   \n",
              "1     4.9      3184.0  ...                ['캐주얼']   41%      27%      16%   \n",
              "2     4.9      3733.0  ...                ['캐주얼']   42%      25%      16%   \n",
              "3     4.8     12697.0  ...                ['캐주얼']   44%      18%      16%   \n",
              "4     4.8      3823.0  ...                ['캐주얼']   41%      28%      15%   \n",
              "\n",
              "  age29_33 age34_39 age40  man woman  \\\n",
              "0      10%       3%    7%  60%   40%   \n",
              "1       5%       2%    9%  43%   57%   \n",
              "2       5%       2%   10%  44%   56%   \n",
              "3       8%       3%   11%  48%   52%   \n",
              "4       6%       3%    7%  23%   77%   \n",
              "\n",
              "                                                 img  \n",
              "0  https://image.msscdn.net/images/goods_img/2019...  \n",
              "1  https://image.msscdn.net/images/goods_img/2021...  \n",
              "2  https://image.msscdn.net/images/goods_img/2020...  \n",
              "3  https://image.msscdn.net/images/goods_img/2017...  \n",
              "4  https://image.msscdn.net/images/goods_img/2020...  \n",
              "\n",
              "[5 rows x 25 columns]"
            ],
            "text/html": [
              "\n",
              "  <div id=\"df-8aab196f-190e-4976-9ec2-cf09e4c714ba\">\n",
              "    <div class=\"colab-df-container\">\n",
              "      <div>\n",
              "<style scoped>\n",
              "    .dataframe tbody tr th:only-of-type {\n",
              "        vertical-align: middle;\n",
              "    }\n",
              "\n",
              "    .dataframe tbody tr th {\n",
              "        vertical-align: top;\n",
              "    }\n",
              "\n",
              "    .dataframe thead th {\n",
              "        text-align: right;\n",
              "    }\n",
              "</style>\n",
              "<table border=\"1\" class=\"dataframe\">\n",
              "  <thead>\n",
              "    <tr style=\"text-align: right;\">\n",
              "      <th></th>\n",
              "      <th>Unnamed: 0</th>\n",
              "      <th>name</th>\n",
              "      <th>main_category</th>\n",
              "      <th>sub_category</th>\n",
              "      <th>brand</th>\n",
              "      <th>number</th>\n",
              "      <th>tags</th>\n",
              "      <th>price</th>\n",
              "      <th>rating</th>\n",
              "      <th>rating_num</th>\n",
              "      <th>...</th>\n",
              "      <th>coordi</th>\n",
              "      <th>age18</th>\n",
              "      <th>age19_23</th>\n",
              "      <th>age24_28</th>\n",
              "      <th>age29_33</th>\n",
              "      <th>age34_39</th>\n",
              "      <th>age40</th>\n",
              "      <th>man</th>\n",
              "      <th>woman</th>\n",
              "      <th>img</th>\n",
              "    </tr>\n",
              "  </thead>\n",
              "  <tbody>\n",
              "    <tr>\n",
              "      <th>0</th>\n",
              "      <td>0</td>\n",
              "      <td>NM2DN51A_빅샷</td>\n",
              "      <td>가방</td>\n",
              "      <td>백팩</td>\n",
              "      <td>THE NORTH FACE</td>\n",
              "      <td>NM2DN51A</td>\n",
              "      <td>['가방', '데이팩', '백팩', '빅샷', '신학기백팩', '캠핑']</td>\n",
              "      <td>150,000원</td>\n",
              "      <td>4.9</td>\n",
              "      <td>15173.0</td>\n",
              "      <td>...</td>\n",
              "      <td>['스트릿', '스포츠', '캐주얼']</td>\n",
              "      <td>32%</td>\n",
              "      <td>27%</td>\n",
              "      <td>21%</td>\n",
              "      <td>10%</td>\n",
              "      <td>3%</td>\n",
              "      <td>7%</td>\n",
              "      <td>60%</td>\n",
              "      <td>40%</td>\n",
              "      <td>https://image.msscdn.net/images/goods_img/2019...</td>\n",
              "    </tr>\n",
              "    <tr>\n",
              "      <th>1</th>\n",
              "      <td>1</td>\n",
              "      <td>THINK PACK</td>\n",
              "      <td>가방</td>\n",
              "      <td>백팩</td>\n",
              "      <td>YALE</td>\n",
              "      <td>YB1BG0031BK0</td>\n",
              "      <td>['백팩', '노트북백팩', '백팩추천', '데일리백', '코듀라', '로고', '...</td>\n",
              "      <td>119,000원</td>\n",
              "      <td>4.9</td>\n",
              "      <td>3184.0</td>\n",
              "      <td>...</td>\n",
              "      <td>['캐주얼']</td>\n",
              "      <td>41%</td>\n",
              "      <td>27%</td>\n",
              "      <td>16%</td>\n",
              "      <td>5%</td>\n",
              "      <td>2%</td>\n",
              "      <td>9%</td>\n",
              "      <td>43%</td>\n",
              "      <td>57%</td>\n",
              "      <td>https://image.msscdn.net/images/goods_img/2021...</td>\n",
              "    </tr>\n",
              "    <tr>\n",
              "      <th>2</th>\n",
              "      <td>2</td>\n",
              "      <td>메쉬 스트링 백팩 블랙</td>\n",
              "      <td>가방</td>\n",
              "      <td>백팩</td>\n",
              "      <td>NEIKIDNIS</td>\n",
              "      <td>NBP005-101</td>\n",
              "      <td>['메쉬스트링백팩', '스트링백팩', 'MESHSTRINGBACKPACK', '코듀...</td>\n",
              "      <td>69,000원</td>\n",
              "      <td>4.9</td>\n",
              "      <td>3733.0</td>\n",
              "      <td>...</td>\n",
              "      <td>['캐주얼']</td>\n",
              "      <td>42%</td>\n",
              "      <td>25%</td>\n",
              "      <td>16%</td>\n",
              "      <td>5%</td>\n",
              "      <td>2%</td>\n",
              "      <td>10%</td>\n",
              "      <td>44%</td>\n",
              "      <td>56%</td>\n",
              "      <td>https://image.msscdn.net/images/goods_img/2020...</td>\n",
              "    </tr>\n",
              "    <tr>\n",
              "      <th>3</th>\n",
              "      <td>3</td>\n",
              "      <td>앱솔루트 백팩 블랙</td>\n",
              "      <td>가방</td>\n",
              "      <td>백팩</td>\n",
              "      <td>NEIKIDNIS</td>\n",
              "      <td>037ASB06</td>\n",
              "      <td>['백팩', '앱솔루트', '학생가방', '코듀라', '포켓', '노트북', '커플...</td>\n",
              "      <td>94,000원</td>\n",
              "      <td>4.8</td>\n",
              "      <td>12697.0</td>\n",
              "      <td>...</td>\n",
              "      <td>['캐주얼']</td>\n",
              "      <td>44%</td>\n",
              "      <td>18%</td>\n",
              "      <td>16%</td>\n",
              "      <td>8%</td>\n",
              "      <td>3%</td>\n",
              "      <td>11%</td>\n",
              "      <td>48%</td>\n",
              "      <td>52%</td>\n",
              "      <td>https://image.msscdn.net/images/goods_img/2017...</td>\n",
              "    </tr>\n",
              "    <tr>\n",
              "      <th>4</th>\n",
              "      <td>4</td>\n",
              "      <td>슈퍼브레이크 BLACK</td>\n",
              "      <td>가방</td>\n",
              "      <td>백팩</td>\n",
              "      <td>JANSPORT</td>\n",
              "      <td>JS0A4QUT008</td>\n",
              "      <td>['슈퍼브레이크', '백팩', '가방', '데일리', '여행', '아웃도어', '포켓']</td>\n",
              "      <td>49,000원</td>\n",
              "      <td>4.8</td>\n",
              "      <td>3823.0</td>\n",
              "      <td>...</td>\n",
              "      <td>['캐주얼']</td>\n",
              "      <td>41%</td>\n",
              "      <td>28%</td>\n",
              "      <td>15%</td>\n",
              "      <td>6%</td>\n",
              "      <td>3%</td>\n",
              "      <td>7%</td>\n",
              "      <td>23%</td>\n",
              "      <td>77%</td>\n",
              "      <td>https://image.msscdn.net/images/goods_img/2020...</td>\n",
              "    </tr>\n",
              "  </tbody>\n",
              "</table>\n",
              "<p>5 rows × 25 columns</p>\n",
              "</div>\n",
              "      <button class=\"colab-df-convert\" onclick=\"convertToInteractive('df-8aab196f-190e-4976-9ec2-cf09e4c714ba')\"\n",
              "              title=\"Convert this dataframe to an interactive table.\"\n",
              "              style=\"display:none;\">\n",
              "        \n",
              "  <svg xmlns=\"http://www.w3.org/2000/svg\" height=\"24px\"viewBox=\"0 0 24 24\"\n",
              "       width=\"24px\">\n",
              "    <path d=\"M0 0h24v24H0V0z\" fill=\"none\"/>\n",
              "    <path d=\"M18.56 5.44l.94 2.06.94-2.06 2.06-.94-2.06-.94-.94-2.06-.94 2.06-2.06.94zm-11 1L8.5 8.5l.94-2.06 2.06-.94-2.06-.94L8.5 2.5l-.94 2.06-2.06.94zm10 10l.94 2.06.94-2.06 2.06-.94-2.06-.94-.94-2.06-.94 2.06-2.06.94z\"/><path d=\"M17.41 7.96l-1.37-1.37c-.4-.4-.92-.59-1.43-.59-.52 0-1.04.2-1.43.59L10.3 9.45l-7.72 7.72c-.78.78-.78 2.05 0 2.83L4 21.41c.39.39.9.59 1.41.59.51 0 1.02-.2 1.41-.59l7.78-7.78 2.81-2.81c.8-.78.8-2.07 0-2.86zM5.41 20L4 18.59l7.72-7.72 1.47 1.35L5.41 20z\"/>\n",
              "  </svg>\n",
              "      </button>\n",
              "      \n",
              "  <style>\n",
              "    .colab-df-container {\n",
              "      display:flex;\n",
              "      flex-wrap:wrap;\n",
              "      gap: 12px;\n",
              "    }\n",
              "\n",
              "    .colab-df-convert {\n",
              "      background-color: #E8F0FE;\n",
              "      border: none;\n",
              "      border-radius: 50%;\n",
              "      cursor: pointer;\n",
              "      display: none;\n",
              "      fill: #1967D2;\n",
              "      height: 32px;\n",
              "      padding: 0 0 0 0;\n",
              "      width: 32px;\n",
              "    }\n",
              "\n",
              "    .colab-df-convert:hover {\n",
              "      background-color: #E2EBFA;\n",
              "      box-shadow: 0px 1px 2px rgba(60, 64, 67, 0.3), 0px 1px 3px 1px rgba(60, 64, 67, 0.15);\n",
              "      fill: #174EA6;\n",
              "    }\n",
              "\n",
              "    [theme=dark] .colab-df-convert {\n",
              "      background-color: #3B4455;\n",
              "      fill: #D2E3FC;\n",
              "    }\n",
              "\n",
              "    [theme=dark] .colab-df-convert:hover {\n",
              "      background-color: #434B5C;\n",
              "      box-shadow: 0px 1px 3px 1px rgba(0, 0, 0, 0.15);\n",
              "      filter: drop-shadow(0px 1px 2px rgba(0, 0, 0, 0.3));\n",
              "      fill: #FFFFFF;\n",
              "    }\n",
              "  </style>\n",
              "\n",
              "      <script>\n",
              "        const buttonEl =\n",
              "          document.querySelector('#df-8aab196f-190e-4976-9ec2-cf09e4c714ba button.colab-df-convert');\n",
              "        buttonEl.style.display =\n",
              "          google.colab.kernel.accessAllowed ? 'block' : 'none';\n",
              "\n",
              "        async function convertToInteractive(key) {\n",
              "          const element = document.querySelector('#df-8aab196f-190e-4976-9ec2-cf09e4c714ba');\n",
              "          const dataTable =\n",
              "            await google.colab.kernel.invokeFunction('convertToInteractive',\n",
              "                                                     [key], {});\n",
              "          if (!dataTable) return;\n",
              "\n",
              "          const docLinkHtml = 'Like what you see? Visit the ' +\n",
              "            '<a target=\"_blank\" href=https://colab.research.google.com/notebooks/data_table.ipynb>data table notebook</a>'\n",
              "            + ' to learn more about interactive tables.';\n",
              "          element.innerHTML = '';\n",
              "          dataTable['output_type'] = 'display_data';\n",
              "          await google.colab.output.renderOutput(dataTable, element);\n",
              "          const docLink = document.createElement('div');\n",
              "          docLink.innerHTML = docLinkHtml;\n",
              "          element.appendChild(docLink);\n",
              "        }\n",
              "      </script>\n",
              "    </div>\n",
              "  </div>\n",
              "  "
            ]
          },
          "metadata": {},
          "execution_count": 3
        }
      ]
    },
    {
      "cell_type": "code",
      "source": [
        "musinsa = musinsa.iloc[:,1:]"
      ],
      "metadata": {
        "id": "zcaSlukjlDz5"
      },
      "execution_count": null,
      "outputs": []
    },
    {
      "cell_type": "code",
      "source": [
        "musinsa.columns"
      ],
      "metadata": {
        "colab": {
          "base_uri": "https://localhost:8080/"
        },
        "id": "FIidcF20lIUs",
        "outputId": "23fae9f0-2d23-49aa-b30e-a2a718aeb8b8"
      },
      "execution_count": null,
      "outputs": [
        {
          "output_type": "execute_result",
          "data": {
            "text/plain": [
              "Index(['name', 'main_category', 'sub_category', 'brand', 'number', 'tags',\n",
              "       'price', 'rating', 'rating_num', 'season', 'gender', 'like', 'view',\n",
              "       'sale', 'coordi', 'age18', 'age19_23', 'age24_28', 'age29_33',\n",
              "       'age34_39', 'age40', 'man', 'woman', 'img'],\n",
              "      dtype='object')"
            ]
          },
          "metadata": {},
          "execution_count": 5
        }
      ]
    },
    {
      "cell_type": "markdown",
      "source": [
        "무신사 column에는 이름, 상위 카테고리, 하위 카테고리, 브랜드, 품번, 태그, 가격, 평점, 평점 수, 시즌, 성별, 좋아요 수, 조회수, 판매 수, 코디, 나이별 판매율, 성별 판매율, 이미지 url이 있다. \n",
        "\n",
        "1. 한 상품 골랐을 때 이와 유사한 상품 추천 - 컨텐츠 기반\n",
        "> - 유사도 측정: main_category, sub_category, brand, tags(TF-IDF), price, season, gender, coordi(TF-IDF), age_, man/woman\n",
        "\n",
        "2. 다양한 필터를 입력 하면 걸러내는 방식으로 점수 매겨서 top N개 추천 \n",
        "> - user정보 또는 contents data: season, gender, age_, man, woman  \n",
        "> - 필터: main_category, sub_category, brand, price, coordi,,\n",
        "> - TF-IDF: tags, coordi \n",
        "> - 점수화: rating, rating_num, like, view\n",
        "\n",
        "3. user 정보를 가지고 있지 X \n",
        "> - item based or contents based\n",
        "> - item based 상품의 개수 한정적일때 좋은 효과를 보임 -> 좋을까,,?\n",
        "> - 가장 좋은건 다양한 알고리즘 섞는 것일텐데 유저 정보가 없어서 추천 알고리즘 선정에 한계가 있을듯"
      ],
      "metadata": {
        "id": "dQEAj7AQCcnk"
      }
    },
    {
      "cell_type": "markdown",
      "source": [
        "##1. main_category / sub_category"
      ],
      "metadata": {
        "id": "FD-ZcWYxlm8A"
      }
    },
    {
      "cell_type": "code",
      "source": [
        "musinsa[\"main_category\"].unique()"
      ],
      "metadata": {
        "colab": {
          "base_uri": "https://localhost:8080/"
        },
        "id": "Kp2qYn4ZlmAa",
        "outputId": "01b787e6-73e9-49f3-8dd5-76a8cda6c962"
      },
      "execution_count": null,
      "outputs": [
        {
          "output_type": "execute_result",
          "data": {
            "text/plain": [
              "array(['가방', '여성 가방', '스포츠/용품', '모자', '상의', '스니커즈', '스커트', '신발', '아우터',\n",
              "       '원피스', '바지', '하의'], dtype=object)"
            ]
          },
          "metadata": {},
          "execution_count": 6
        }
      ]
    },
    {
      "cell_type": "code",
      "source": [
        "musinsa[\"sub_category\"].unique()"
      ],
      "metadata": {
        "colab": {
          "base_uri": "https://localhost:8080/"
        },
        "id": "o1BrxxAom7n9",
        "outputId": "888eb80e-2023-4148-f5ed-d7c90c0926bc"
      },
      "execution_count": null,
      "outputs": [
        {
          "output_type": "execute_result",
          "data": {
            "text/plain": [
              "array(['백팩', '캐리어', '가방 소품', '지갑/머니클립', '클러치 백', '메신저/크로스 백', '크로스백',\n",
              "       '숄더백', '토트백', '에코백', '스포츠가방', '웨이스트 백', '파우치 백', '브리프케이스',\n",
              "       '캡/야구 모자', '스포츠모자', '헌팅캡/베레모', '페도라', '버킷/사파리햇', '비니', '기타 모자',\n",
              "       '트루퍼', '반소매 티셔츠', '긴소매 티셔츠', '민소매 티셔츠', '셔츠/블라우스', '맨투맨/스웨트셔츠',\n",
              "       '후드 티셔츠', '니트/스웨터', '기타 상의', '피케/카라 티셔츠', '캔버스/단화', '패션스니커즈화',\n",
              "       '기타 스니커즈', '롱스커트', '미니스커트', '미디스커트', '구두', '부츠', '스포츠잡화', '신발 용품',\n",
              "       '로퍼', '힐/펌프스', '플랫 슈즈', '블로퍼', '샌들', '슬리퍼', '기타 신발', '스포츠신발',\n",
              "       '모카신/보트 슈즈', '환절기 코트', '겨울 싱글 코트', '겨울 더블 코트', '겨울 기타 코트',\n",
              "       '롱패딩/롱헤비 아우터', '숏패딩/숏헤비 아우터', '\\x08패딩베스트', '베스트', '사파리/헌팅 재킷',\n",
              "       '나일론/코치  재킷', '기타 아우터', '후드 집업', '블루종/MA-1', '레더/라이더스 재킷', '무스탕/퍼',\n",
              "       '트러커 재킷', '슈트/블레이저 재킷', '아우터', '카디건', '아노락 재킷', '플리스/뽀글이',\n",
              "       '트레이닝 재킷', '스타디움 재킷', '맥시 원피스', '미니원피스', '미디원피스', '기타 바지', '데님 팬츠',\n",
              "       '레깅스', '숏 팬츠', '슈트 팬츠/슬랙스', '점프 슈트/오버올', '코튼 팬츠', '트레이닝/조거 팬츠'],\n",
              "      dtype=object)"
            ]
          },
          "metadata": {},
          "execution_count": 7
        }
      ]
    },
    {
      "cell_type": "markdown",
      "source": [
        "main_category에 스포츠/용품 column은 크롤링 할때 상위 카테고리 하나 더 추가 된 것으로, 주변 값과 동일하게 맞춰주어야 한다.(sub_category도 바꿔주어야 한다.) "
      ],
      "metadata": {
        "id": "pT7ZuuP3mA59"
      }
    },
    {
      "cell_type": "markdown",
      "source": [
        "여기서 주의할 점이 기존 musinsa_data를 보면 모든 data가 뒤로 하나씩 밀린것을 볼 수 있다. \n",
        "\n",
        "ex) 가방 > 보스턴/드럼/더플백 \n",
        "=> 이 경우 무신사에 스포츠/용품 > 스포츠가방 > \"보스턴/드럼/더플백\" 이렇게 나와 첫번째와 두번째 정보를 크롤링 했기 때문에 main_category가 스포츠가방이 나와야하는데 스포츠/용품이 크롤링되고 sub_category에는 보스턴/드럼/더플백이 아니라 스포츠가방이 크롤링 된다. 이걸 확인해 바꿔주어야 한다. "
      ],
      "metadata": {
        "id": "9LOakRwDqEeg"
      }
    },
    {
      "cell_type": "code",
      "source": [
        "musinsa.loc[musinsa[musinsa[\"main_category\"] == '스포츠/용품'].index[:616],[\"main_category\",\"sub_category\"]] = [\"스포츠가방\",\"보스턴/드럼/더플백\"]"
      ],
      "metadata": {
        "id": "115xq3HulT-L"
      },
      "execution_count": null,
      "outputs": []
    },
    {
      "cell_type": "code",
      "source": [
        "musinsa.loc[musinsa[musinsa[\"main_category\"] == '스포츠/용품'].index[:424],[\"main_category\",\"sub_category\"]] = [\"스포츠모자\", \"선캡/바이저\"]"
      ],
      "metadata": {
        "id": "oLSFfviZntN2"
      },
      "execution_count": null,
      "outputs": []
    },
    {
      "cell_type": "code",
      "source": [
        "musinsa.loc[musinsa[musinsa[\"main_category\"] == '스포츠/용품'].index[:84],[\"main_category\",\"sub_category\"]] = [\"스포츠잡화\", \"신발용품\"]"
      ],
      "metadata": {
        "id": "rHCanbQdq_FA"
      },
      "execution_count": null,
      "outputs": []
    },
    {
      "cell_type": "code",
      "source": [
        "musinsa.loc[musinsa[musinsa[\"main_category\"] == '스포츠/용품'].index[:145],[\"main_category\",\"sub_category\"]] = [\"스포츠신발\", \"워터스포츠화\"]"
      ],
      "metadata": {
        "id": "iVyjw3EMs99S"
      },
      "execution_count": null,
      "outputs": []
    },
    {
      "cell_type": "markdown",
      "source": [
        "나머지는 아우터로 확인해보니 스포츠/용품이 상위 카테고리고 하위 카테고리는 다른 상품의 카테고리와 동일 하지만 지금 카테고리가 아우터에서 가디건인지 아노락 재킷인지.. 등 구분하기가 어려움 이 부분은 결측값으로 바꿔준 다음 fillna를 통해 (method=\"ffill\n",
        "\") 앞에 있는 데이터 값과 동일하게 채워준다. "
      ],
      "metadata": {
        "id": "Y_3cqgQivQl2"
      }
    },
    {
      "cell_type": "code",
      "source": [
        "musinsa.loc[musinsa[musinsa[\"main_category\"] == '스포츠/용품'].index,[\"main_category\",\"sub_category\"]] = np.NaN"
      ],
      "metadata": {
        "id": "7wkSoljPt5YG"
      },
      "execution_count": null,
      "outputs": []
    },
    {
      "cell_type": "code",
      "source": [
        "#결측값 위의 값으로 채워준다.\n",
        "musinsa[\"main_category\"].fillna(method=\"ffill\", inplace=True)\n",
        "musinsa[\"sub_category\"].fillna(method=\"ffill\", inplace=True)"
      ],
      "metadata": {
        "id": "jwg0OkT_u0Yz"
      },
      "execution_count": null,
      "outputs": []
    },
    {
      "cell_type": "code",
      "source": [
        "musinsa[\"main_category\"].unique() "
      ],
      "metadata": {
        "colab": {
          "base_uri": "https://localhost:8080/"
        },
        "id": "JBjHuZlAv2oG",
        "outputId": "7cd9fd9b-b0d9-48bc-e8ed-841bfef2b8fd"
      },
      "execution_count": null,
      "outputs": [
        {
          "output_type": "execute_result",
          "data": {
            "text/plain": [
              "array(['가방', '여성 가방', '스포츠가방', '모자', '스포츠모자', '상의', '스니커즈', '스커트', '신발',\n",
              "       '스포츠잡화', '스포츠신발', '아우터', '원피스', '바지', '하의'], dtype=object)"
            ]
          },
          "metadata": {},
          "execution_count": 14
        }
      ]
    },
    {
      "cell_type": "markdown",
      "source": [
        "1. 스포츠 가방, 스포츠 모자, 스포츠 신발.. 가방, 모자, 신발로 통일하는게 좋을지 생각 -> 스포츠는 통일하는게 좋을듯 나누는 항목이 스포츠가 아니니까\n",
        "\n",
        "2. 여성 가방과 가방 분류하는 거 확인 해 보니 gender가 [\"여\"]인건 여성 가방 나머지는 다 가방으로 분류 -> 다 통일\n",
        "\n",
        "3. 하의에 레깅스 바지 종류는 다 바지로 되어있다. 크롤링 할때 레깅스 바지로 분류되어있었다. 상의가 있으니 바지 + 레깅스(하의)를 하의로 통일시킨다. "
      ],
      "metadata": {
        "id": "4XJuJP7swAW6"
      }
    },
    {
      "cell_type": "code",
      "source": [
        "#스포츠가방을 가방으로 변환\n",
        "musinsa.loc[musinsa[musinsa[\"main_category\"] == '스포츠가방'].index,\"main_category\"] = \"가방\"\n",
        "#스포츠모자를 모자로 변환\n",
        "musinsa.loc[musinsa[musinsa[\"main_category\"] == '스포츠모자'].index,\"main_category\"] = \"모자\"\n",
        "\n",
        "#잡화는 보류\n",
        "#스포츠신발을 신발로 변환\n",
        "musinsa.loc[musinsa[musinsa[\"main_category\"] == '스포츠신발'].index,\"main_category\"] = \"신발\"\n",
        "\n",
        "#여성가방 가방으로 변환\n",
        "musinsa.loc[musinsa[musinsa[\"main_category\"] == '여성 가방'].index,\"main_category\"] = \"가방\"\n",
        "\n",
        "#바지를 하의로 변환\n",
        "musinsa.loc[musinsa[musinsa[\"main_category\"] == '바지'].index,\"main_category\"] = \"하의\""
      ],
      "metadata": {
        "id": "t_lMHhUhv7ek"
      },
      "execution_count": null,
      "outputs": []
    },
    {
      "cell_type": "code",
      "source": [
        "musinsa[\"main_category\"].unique() "
      ],
      "metadata": {
        "colab": {
          "base_uri": "https://localhost:8080/"
        },
        "id": "3hFQJv6Zxya7",
        "outputId": "eb05643e-8ee1-4821-aca5-bf3bd6951a67"
      },
      "execution_count": null,
      "outputs": [
        {
          "output_type": "execute_result",
          "data": {
            "text/plain": [
              "array(['가방', '모자', '상의', '스니커즈', '스커트', '신발', '스포츠잡화', '아우터', '원피스', '하의'],\n",
              "      dtype=object)"
            ]
          },
          "metadata": {},
          "execution_count": 16
        }
      ]
    },
    {
      "cell_type": "code",
      "source": [
        "musinsa[\"sub_category\"].unique()"
      ],
      "metadata": {
        "colab": {
          "base_uri": "https://localhost:8080/"
        },
        "id": "W5KWA89axz43",
        "outputId": "9b3c7763-5bd7-49d2-de07-2e62de137e06"
      },
      "execution_count": null,
      "outputs": [
        {
          "output_type": "execute_result",
          "data": {
            "text/plain": [
              "array(['백팩', '캐리어', '가방 소품', '지갑/머니클립', '클러치 백', '메신저/크로스 백', '크로스백',\n",
              "       '숄더백', '토트백', '에코백', '보스턴/드럼/더플백', '웨이스트 백', '파우치 백', '브리프케이스',\n",
              "       '캡/야구 모자', '선캡/바이저', '헌팅캡/베레모', '페도라', '버킷/사파리햇', '비니', '기타 모자',\n",
              "       '트루퍼', '반소매 티셔츠', '긴소매 티셔츠', '민소매 티셔츠', '셔츠/블라우스', '맨투맨/스웨트셔츠',\n",
              "       '후드 티셔츠', '니트/스웨터', '기타 상의', '피케/카라 티셔츠', '캔버스/단화', '패션스니커즈화',\n",
              "       '기타 스니커즈', '롱스커트', '미니스커트', '미디스커트', '구두', '부츠', '신발용품', '신발 용품',\n",
              "       '로퍼', '힐/펌프스', '플랫 슈즈', '블로퍼', '샌들', '슬리퍼', '기타 신발', '워터스포츠화',\n",
              "       '모카신/보트 슈즈', '환절기 코트', '겨울 싱글 코트', '겨울 더블 코트', '겨울 기타 코트',\n",
              "       '롱패딩/롱헤비 아우터', '숏패딩/숏헤비 아우터', '\\x08패딩베스트', '베스트', '사파리/헌팅 재킷',\n",
              "       '나일론/코치  재킷', '기타 아우터', '후드 집업', '블루종/MA-1', '레더/라이더스 재킷', '무스탕/퍼',\n",
              "       '트러커 재킷', '슈트/블레이저 재킷', '카디건', '아노락 재킷', '플리스/뽀글이', '트레이닝 재킷',\n",
              "       '스타디움 재킷', '맥시 원피스', '미니원피스', '미디원피스', '기타 바지', '데님 팬츠', '레깅스',\n",
              "       '숏 팬츠', '슈트 팬츠/슬랙스', '점프 슈트/오버올', '코튼 팬츠', '트레이닝/조거 팬츠'],\n",
              "      dtype=object)"
            ]
          },
          "metadata": {},
          "execution_count": 17
        }
      ]
    },
    {
      "cell_type": "code",
      "source": [
        "#패딩베스트 값 이상 앞에 바꿔주기\n",
        "import re\n",
        "musinsa[\"sub_category\"] = [re.sub(r'[\\x08]','', s) for s in musinsa[\"sub_category\"]]"
      ],
      "metadata": {
        "id": "FmxzS9rFyQeH"
      },
      "execution_count": null,
      "outputs": []
    },
    {
      "cell_type": "markdown",
      "source": [
        "##2. tags"
      ],
      "metadata": {
        "id": "QfO5ZvfZy0iu"
      }
    },
    {
      "cell_type": "markdown",
      "source": [
        "tag 종류 살펴보기"
      ],
      "metadata": {
        "id": "Vm4jjb8My-E4"
      }
    },
    {
      "cell_type": "code",
      "source": [
        "import ast\n",
        "\n",
        "a = []\n",
        "num_na = 0\n",
        "\n",
        "for i in musinsa[\"tags\"]:\n",
        "    li = ast.literal_eval(i)\n",
        "    for j in li:\n",
        "        a.append(j)\n",
        "    if len(li) == 0:\n",
        "        num_na += 1"
      ],
      "metadata": {
        "id": "aLXfqDoKyYSg"
      },
      "execution_count": null,
      "outputs": []
    },
    {
      "cell_type": "code",
      "source": [
        "print(len(a))\n",
        "print(len(list(set(a))))\n",
        "print(num_na)"
      ],
      "metadata": {
        "colab": {
          "base_uri": "https://localhost:8080/"
        },
        "id": "QpLZB56JzDab",
        "outputId": "cdbbe35c-baa5-46af-b5e1-2ea009d7b82c"
      },
      "execution_count": null,
      "outputs": [
        {
          "output_type": "stream",
          "name": "stdout",
          "text": [
            "309230\n",
            "15910\n",
            "12253\n"
          ]
        }
      ]
    },
    {
      "cell_type": "markdown",
      "source": [
        "고유 태그 15910개, 빈 결측값([ ]) 12253개 \n",
        "\n",
        "1. 고유 태그는 TF-IDF로 점수 매기면 되지 않을까\n",
        "2. 빈 결측값 어떻게 할 것인지 생각"
      ],
      "metadata": {
        "id": "TCdHoCk1zHsx"
      }
    },
    {
      "cell_type": "markdown",
      "source": [
        "##3. rating & rating_num"
      ],
      "metadata": {
        "id": "ZtrXUtd_0v19"
      }
    },
    {
      "cell_type": "code",
      "source": [
        "#rating\n",
        "\n",
        "musinsa[\"rating\"].isnull().sum()"
      ],
      "metadata": {
        "colab": {
          "base_uri": "https://localhost:8080/"
        },
        "id": "n_lgx3K_7WcD",
        "outputId": "c37d4eec-aeae-430b-fae6-cbab43d670a6"
      },
      "execution_count": null,
      "outputs": [
        {
          "output_type": "execute_result",
          "data": {
            "text/plain": [
              "13519"
            ]
          },
          "metadata": {},
          "execution_count": 61
        }
      ]
    },
    {
      "cell_type": "markdown",
      "source": [
        "13519개 결측값 존재한다. 0으로 채워준다. "
      ],
      "metadata": {
        "id": "hR51Xb4K7mow"
      }
    },
    {
      "cell_type": "code",
      "source": [
        "musinsa[\"rating\"].fillna(0, inplace=True)"
      ],
      "metadata": {
        "id": "J-nSoUUg7mG7"
      },
      "execution_count": null,
      "outputs": []
    },
    {
      "cell_type": "code",
      "source": [
        "musinsa[\"rating\"].describe() "
      ],
      "metadata": {
        "colab": {
          "base_uri": "https://localhost:8080/"
        },
        "id": "mmO5kK1czGiv",
        "outputId": "28eccd0c-2ee5-4fa7-efc8-ffa15ce7b281"
      },
      "execution_count": null,
      "outputs": [
        {
          "output_type": "execute_result",
          "data": {
            "text/plain": [
              "count    65551.000000\n",
              "mean         3.782228\n",
              "std          1.945133\n",
              "min          0.000000\n",
              "25%          4.300000\n",
              "50%          4.800000\n",
              "75%          4.900000\n",
              "max          5.000000\n",
              "Name: rating, dtype: float64"
            ]
          },
          "metadata": {},
          "execution_count": 63
        }
      ]
    },
    {
      "cell_type": "code",
      "source": [
        "import matplotlib.pyplot as plt\n",
        "\n",
        "rating = musinsa[\"rating\"].value_counts().reset_index()\n",
        "rating.sort_values(by=\"index\", inplace=True)\n",
        "plt.plot(rating[\"index\"], rating[\"rating\"], marker=\"o\")"
      ],
      "metadata": {
        "colab": {
          "base_uri": "https://localhost:8080/",
          "height": 283
        },
        "id": "kAF7fOY601do",
        "outputId": "d89b2e75-ee84-4403-c0da-a2adbc6ee5b7"
      },
      "execution_count": null,
      "outputs": [
        {
          "output_type": "execute_result",
          "data": {
            "text/plain": [
              "[<matplotlib.lines.Line2D at 0x7f1fd371d750>]"
            ]
          },
          "metadata": {},
          "execution_count": 64
        },
        {
          "output_type": "display_data",
          "data": {
            "text/plain": [
              "<Figure size 432x288 with 1 Axes>"
            ],
            "image/png": "[encoded data removed]"
          },
          "metadata": {
            "needs_background": "light"
          }
        }
      ]
    },
    {
      "cell_type": "code",
      "source": [
        "rating"
      ],
      "metadata": {
        "colab": {
          "base_uri": "https://localhost:8080/",
          "height": 990
        },
        "id": "Kt8eof8F2Gua",
        "outputId": "2681b150-5846-4003-f09f-c74b93ee608e"
      },
      "execution_count": null,
      "outputs": [
        {
          "output_type": "execute_result",
          "data": {
            "text/plain": [
              "    index  rating\n",
              "1     0.0   13519\n",
              "18    1.0      34\n",
              "28    1.5       2\n",
              "16    2.0      39\n",
              "23    2.3       8\n",
              "22    2.5      10\n",
              "24    2.7       4\n",
              "26    2.8       3\n",
              "25    2.9       4\n",
              "10    3.0     270\n",
              "29    3.1       1\n",
              "27    3.2       3\n",
              "17    3.3      36\n",
              "21    3.4      13\n",
              "15    3.5      66\n",
              "20    3.6      23\n",
              "14    3.7      78\n",
              "13    3.8      80\n",
              "19    3.9      30\n",
              "7     4.0    1182\n",
              "12    4.1     118\n",
              "11    4.2     231\n",
              "8     4.3     794\n",
              "9     4.4     734\n",
              "6     4.5    1991\n",
              "5     4.6    3135\n",
              "4     4.7    7492\n",
              "0     4.8   14929\n",
              "3     4.9    9574\n",
              "2     5.0   11148"
            ],
            "text/html": [
              "\n",
              "  <div id=\"df-a24f720a-3581-4539-9599-e68391ffa560\">\n",
              "    <div class=\"colab-df-container\">\n",
              "      <div>\n",
              "<style scoped>\n",
              "    .dataframe tbody tr th:only-of-type {\n",
              "        vertical-align: middle;\n",
              "    }\n",
              "\n",
              "    .dataframe tbody tr th {\n",
              "        vertical-align: top;\n",
              "    }\n",
              "\n",
              "    .dataframe thead th {\n",
              "        text-align: right;\n",
              "    }\n",
              "</style>\n",
              "<table border=\"1\" class=\"dataframe\">\n",
              "  <thead>\n",
              "    <tr style=\"text-align: right;\">\n",
              "      <th></th>\n",
              "      <th>index</th>\n",
              "      <th>rating</th>\n",
              "    </tr>\n",
              "  </thead>\n",
              "  <tbody>\n",
              "    <tr>\n",
              "      <th>1</th>\n",
              "      <td>0.0</td>\n",
              "      <td>13519</td>\n",
              "    </tr>\n",
              "    <tr>\n",
              "      <th>18</th>\n",
              "      <td>1.0</td>\n",
              "      <td>34</td>\n",
              "    </tr>\n",
              "    <tr>\n",
              "      <th>28</th>\n",
              "      <td>1.5</td>\n",
              "      <td>2</td>\n",
              "    </tr>\n",
              "    <tr>\n",
              "      <th>16</th>\n",
              "      <td>2.0</td>\n",
              "      <td>39</td>\n",
              "    </tr>\n",
              "    <tr>\n",
              "      <th>23</th>\n",
              "      <td>2.3</td>\n",
              "      <td>8</td>\n",
              "    </tr>\n",
              "    <tr>\n",
              "      <th>22</th>\n",
              "      <td>2.5</td>\n",
              "      <td>10</td>\n",
              "    </tr>\n",
              "    <tr>\n",
              "      <th>24</th>\n",
              "      <td>2.7</td>\n",
              "      <td>4</td>\n",
              "    </tr>\n",
              "    <tr>\n",
              "      <th>26</th>\n",
              "      <td>2.8</td>\n",
              "      <td>3</td>\n",
              "    </tr>\n",
              "    <tr>\n",
              "      <th>25</th>\n",
              "      <td>2.9</td>\n",
              "      <td>4</td>\n",
              "    </tr>\n",
              "    <tr>\n",
              "      <th>10</th>\n",
              "      <td>3.0</td>\n",
              "      <td>270</td>\n",
              "    </tr>\n",
              "    <tr>\n",
              "      <th>29</th>\n",
              "      <td>3.1</td>\n",
              "      <td>1</td>\n",
              "    </tr>\n",
              "    <tr>\n",
              "      <th>27</th>\n",
              "      <td>3.2</td>\n",
              "      <td>3</td>\n",
              "    </tr>\n",
              "    <tr>\n",
              "      <th>17</th>\n",
              "      <td>3.3</td>\n",
              "      <td>36</td>\n",
              "    </tr>\n",
              "    <tr>\n",
              "      <th>21</th>\n",
              "      <td>3.4</td>\n",
              "      <td>13</td>\n",
              "    </tr>\n",
              "    <tr>\n",
              "      <th>15</th>\n",
              "      <td>3.5</td>\n",
              "      <td>66</td>\n",
              "    </tr>\n",
              "    <tr>\n",
              "      <th>20</th>\n",
              "      <td>3.6</td>\n",
              "      <td>23</td>\n",
              "    </tr>\n",
              "    <tr>\n",
              "      <th>14</th>\n",
              "      <td>3.7</td>\n",
              "      <td>78</td>\n",
              "    </tr>\n",
              "    <tr>\n",
              "      <th>13</th>\n",
              "      <td>3.8</td>\n",
              "      <td>80</td>\n",
              "    </tr>\n",
              "    <tr>\n",
              "      <th>19</th>\n",
              "      <td>3.9</td>\n",
              "      <td>30</td>\n",
              "    </tr>\n",
              "    <tr>\n",
              "      <th>7</th>\n",
              "      <td>4.0</td>\n",
              "      <td>1182</td>\n",
              "    </tr>\n",
              "    <tr>\n",
              "      <th>12</th>\n",
              "      <td>4.1</td>\n",
              "      <td>118</td>\n",
              "    </tr>\n",
              "    <tr>\n",
              "      <th>11</th>\n",
              "      <td>4.2</td>\n",
              "      <td>231</td>\n",
              "    </tr>\n",
              "    <tr>\n",
              "      <th>8</th>\n",
              "      <td>4.3</td>\n",
              "      <td>794</td>\n",
              "    </tr>\n",
              "    <tr>\n",
              "      <th>9</th>\n",
              "      <td>4.4</td>\n",
              "      <td>734</td>\n",
              "    </tr>\n",
              "    <tr>\n",
              "      <th>6</th>\n",
              "      <td>4.5</td>\n",
              "      <td>1991</td>\n",
              "    </tr>\n",
              "    <tr>\n",
              "      <th>5</th>\n",
              "      <td>4.6</td>\n",
              "      <td>3135</td>\n",
              "    </tr>\n",
              "    <tr>\n",
              "      <th>4</th>\n",
              "      <td>4.7</td>\n",
              "      <td>7492</td>\n",
              "    </tr>\n",
              "    <tr>\n",
              "      <th>0</th>\n",
              "      <td>4.8</td>\n",
              "      <td>14929</td>\n",
              "    </tr>\n",
              "    <tr>\n",
              "      <th>3</th>\n",
              "      <td>4.9</td>\n",
              "      <td>9574</td>\n",
              "    </tr>\n",
              "    <tr>\n",
              "      <th>2</th>\n",
              "      <td>5.0</td>\n",
              "      <td>11148</td>\n",
              "    </tr>\n",
              "  </tbody>\n",
              "</table>\n",
              "</div>\n",
              "      <button class=\"colab-df-convert\" onclick=\"convertToInteractive('df-a24f720a-3581-4539-9599-e68391ffa560')\"\n",
              "              title=\"Convert this dataframe to an interactive table.\"\n",
              "              style=\"display:none;\">\n",
              "        \n",
              "  <svg xmlns=\"http://www.w3.org/2000/svg\" height=\"24px\"viewBox=\"0 0 24 24\"\n",
              "       width=\"24px\">\n",
              "    <path d=\"M0 0h24v24H0V0z\" fill=\"none\"/>\n",
              "    <path d=\"M18.56 5.44l.94 2.06.94-2.06 2.06-.94-2.06-.94-.94-2.06-.94 2.06-2.06.94zm-11 1L8.5 8.5l.94-2.06 2.06-.94-2.06-.94L8.5 2.5l-.94 2.06-2.06.94zm10 10l.94 2.06.94-2.06 2.06-.94-2.06-.94-.94-2.06-.94 2.06-2.06.94z\"/><path d=\"M17.41 7.96l-1.37-1.37c-.4-.4-.92-.59-1.43-.59-.52 0-1.04.2-1.43.59L10.3 9.45l-7.72 7.72c-.78.78-.78 2.05 0 2.83L4 21.41c.39.39.9.59 1.41.59.51 0 1.02-.2 1.41-.59l7.78-7.78 2.81-2.81c.8-.78.8-2.07 0-2.86zM5.41 20L4 18.59l7.72-7.72 1.47 1.35L5.41 20z\"/>\n",
              "  </svg>\n",
              "      </button>\n",
              "      \n",
              "  <style>\n",
              "    .colab-df-container {\n",
              "      display:flex;\n",
              "      flex-wrap:wrap;\n",
              "      gap: 12px;\n",
              "    }\n",
              "\n",
              "    .colab-df-convert {\n",
              "      background-color: #E8F0FE;\n",
              "      border: none;\n",
              "      border-radius: 50%;\n",
              "      cursor: pointer;\n",
              "      display: none;\n",
              "      fill: #1967D2;\n",
              "      height: 32px;\n",
              "      padding: 0 0 0 0;\n",
              "      width: 32px;\n",
              "    }\n",
              "\n",
              "    .colab-df-convert:hover {\n",
              "      background-color: #E2EBFA;\n",
              "      box-shadow: 0px 1px 2px rgba(60, 64, 67, 0.3), 0px 1px 3px 1px rgba(60, 64, 67, 0.15);\n",
              "      fill: #174EA6;\n",
              "    }\n",
              "\n",
              "    [theme=dark] .colab-df-convert {\n",
              "      background-color: #3B4455;\n",
              "      fill: #D2E3FC;\n",
              "    }\n",
              "\n",
              "    [theme=dark] .colab-df-convert:hover {\n",
              "      background-color: #434B5C;\n",
              "      box-shadow: 0px 1px 3px 1px rgba(0, 0, 0, 0.15);\n",
              "      filter: drop-shadow(0px 1px 2px rgba(0, 0, 0, 0.3));\n",
              "      fill: #FFFFFF;\n",
              "    }\n",
              "  </style>\n",
              "\n",
              "      <script>\n",
              "        const buttonEl =\n",
              "          document.querySelector('#df-a24f720a-3581-4539-9599-e68391ffa560 button.colab-df-convert');\n",
              "        buttonEl.style.display =\n",
              "          google.colab.kernel.accessAllowed ? 'block' : 'none';\n",
              "\n",
              "        async function convertToInteractive(key) {\n",
              "          const element = document.querySelector('#df-a24f720a-3581-4539-9599-e68391ffa560');\n",
              "          const dataTable =\n",
              "            await google.colab.kernel.invokeFunction('convertToInteractive',\n",
              "                                                     [key], {});\n",
              "          if (!dataTable) return;\n",
              "\n",
              "          const docLinkHtml = 'Like what you see? Visit the ' +\n",
              "            '<a target=\"_blank\" href=https://colab.research.google.com/notebooks/data_table.ipynb>data table notebook</a>'\n",
              "            + ' to learn more about interactive tables.';\n",
              "          element.innerHTML = '';\n",
              "          dataTable['output_type'] = 'display_data';\n",
              "          await google.colab.output.renderOutput(dataTable, element);\n",
              "          const docLink = document.createElement('div');\n",
              "          docLink.innerHTML = docLinkHtml;\n",
              "          element.appendChild(docLink);\n",
              "        }\n",
              "      </script>\n",
              "    </div>\n",
              "  </div>\n",
              "  "
            ]
          },
          "metadata": {},
          "execution_count": 65
        }
      ]
    },
    {
      "cell_type": "code",
      "source": [
        "#rating_num\n",
        "\n",
        "musinsa[\"rating_num\"].isnull().sum()"
      ],
      "metadata": {
        "colab": {
          "base_uri": "https://localhost:8080/"
        },
        "id": "YBjpf9FK8DLE",
        "outputId": "b2ac8f55-d773-4b1e-85f5-0263d471b46f"
      },
      "execution_count": null,
      "outputs": [
        {
          "output_type": "execute_result",
          "data": {
            "text/plain": [
              "13519"
            ]
          },
          "metadata": {},
          "execution_count": 66
        }
      ]
    },
    {
      "cell_type": "markdown",
      "source": [
        "rating_num도 rating 마찬가지로 결측값 13519개 존재한다. 0으로 바꿔준다. "
      ],
      "metadata": {
        "id": "1MaogEFt8PFl"
      }
    },
    {
      "cell_type": "code",
      "source": [
        "musinsa[\"rating_num\"].fillna(0, inplace=True)"
      ],
      "metadata": {
        "id": "xT9ajWUh8bna"
      },
      "execution_count": null,
      "outputs": []
    },
    {
      "cell_type": "code",
      "source": [
        "musinsa[\"rating_num\"].describe()"
      ],
      "metadata": {
        "colab": {
          "base_uri": "https://localhost:8080/"
        },
        "id": "1b6-l2Kv3MkC",
        "outputId": "08b4ed78-0445-4321-beec-1ae0354a61ed"
      },
      "execution_count": null,
      "outputs": [
        {
          "output_type": "execute_result",
          "data": {
            "text/plain": [
              "count     65551.000000\n",
              "mean       1181.221904\n",
              "std        7700.905955\n",
              "min           0.000000\n",
              "25%           1.000000\n",
              "50%          14.000000\n",
              "75%         127.000000\n",
              "max      159414.000000\n",
              "Name: rating_num, dtype: float64"
            ]
          },
          "metadata": {},
          "execution_count": 68
        }
      ]
    },
    {
      "cell_type": "markdown",
      "source": [
        "리뷰 평점과, 리뷰 개수를 잘 조율해서 (곱한다거나, 퍼센트 매겨서 곱하거나 이런식,,가중치) 값을 도출한다. 리뷰 개수가 많을 수록 리뷰 평점의 신뢰도가 높아진다고 생각할수 있기 때문에 \n",
        "\n",
        "-> 일단, rating과 rating_num과의 관계를 알아보자"
      ],
      "metadata": {
        "id": "boEaQ6EG33aM"
      }
    },
    {
      "cell_type": "code",
      "source": [
        "plt.figure(figsize=(10,8))\n",
        "plt.scatter(x = musinsa[\"rating\"], y = musinsa[\"rating_num\"], s=10)"
      ],
      "metadata": {
        "colab": {
          "base_uri": "https://localhost:8080/",
          "height": 501
        },
        "id": "KhvoOJrI3Tom",
        "outputId": "4ce0193e-ef64-46c9-8ce8-188e4b9f87df"
      },
      "execution_count": null,
      "outputs": [
        {
          "output_type": "execute_result",
          "data": {
            "text/plain": [
              "<matplotlib.collections.PathCollection at 0x7f1fd371d910>"
            ]
          },
          "metadata": {},
          "execution_count": 69
        },
        {
          "output_type": "display_data",
          "data": {
            "text/plain": [
              "<Figure size 720x576 with 1 Axes>"
            ],
            "image/png": "[encoded data removed]"
          },
          "metadata": {
            "needs_background": "light"
          }
        }
      ]
    },
    {
      "cell_type": "markdown",
      "source": [
        "rating이 낮은 상품들은 다 적은 리뷰수를 기록하고 있다. 높은 상품들 중에 리뷰수가 적은 것도 있다. 리뷰수가 많은 상품이 평점이 높다면 좋은 상품일 확률이 높지만 리뷰수가 적은데 평점이 높은 건 전 상품보다 좋다고 확신할 수 없다. "
      ],
      "metadata": {
        "id": "2kDXhwu89iS4"
      }
    },
    {
      "cell_type": "markdown",
      "source": [
        "###rating&rating_num 이용해 새로운 컬럼 만들기 "
      ],
      "metadata": {
        "id": "afepnuMr06kb"
      }
    },
    {
      "cell_type": "code",
      "source": [
        "musinsa[[\"rating\", \"rating_num\"]].head(20)"
      ],
      "metadata": {
        "colab": {
          "base_uri": "https://localhost:8080/",
          "height": 677
        },
        "id": "ZGiICZsm_268",
        "outputId": "816dd564-eed4-434a-c369-ed646893e1b5"
      },
      "execution_count": null,
      "outputs": [
        {
          "output_type": "execute_result",
          "data": {
            "text/plain": [
              "    rating  rating_num\n",
              "0      4.9     15173.0\n",
              "1      4.9      3184.0\n",
              "2      4.9      3733.0\n",
              "3      4.8     12697.0\n",
              "4      4.8      3823.0\n",
              "5      4.9      2936.0\n",
              "6      4.9      3299.0\n",
              "7      4.8      6487.0\n",
              "8      4.9      2869.0\n",
              "9      4.9      4317.0\n",
              "10     4.7      5051.0\n",
              "11     4.8      1707.0\n",
              "12     4.8      1505.0\n",
              "13     4.9      1708.0\n",
              "14     4.8      1826.0\n",
              "15     4.8      1568.0\n",
              "16     4.9      3121.0\n",
              "17     4.9      3026.0\n",
              "18     4.9       508.0\n",
              "19     4.8      3715.0"
            ],
            "text/html": [
              "\n",
              "  <div id=\"df-0ff711aa-386c-48c5-8d63-439862272fca\">\n",
              "    <div class=\"colab-df-container\">\n",
              "      <div>\n",
              "<style scoped>\n",
              "    .dataframe tbody tr th:only-of-type {\n",
              "        vertical-align: middle;\n",
              "    }\n",
              "\n",
              "    .dataframe tbody tr th {\n",
              "        vertical-align: top;\n",
              "    }\n",
              "\n",
              "    .dataframe thead th {\n",
              "        text-align: right;\n",
              "    }\n",
              "</style>\n",
              "<table border=\"1\" class=\"dataframe\">\n",
              "  <thead>\n",
              "    <tr style=\"text-align: right;\">\n",
              "      <th></th>\n",
              "      <th>rating</th>\n",
              "      <th>rating_num</th>\n",
              "    </tr>\n",
              "  </thead>\n",
              "  <tbody>\n",
              "    <tr>\n",
              "      <th>0</th>\n",
              "      <td>4.9</td>\n",
              "      <td>15173.0</td>\n",
              "    </tr>\n",
              "    <tr>\n",
              "      <th>1</th>\n",
              "      <td>4.9</td>\n",
              "      <td>3184.0</td>\n",
              "    </tr>\n",
              "    <tr>\n",
              "      <th>2</th>\n",
              "      <td>4.9</td>\n",
              "      <td>3733.0</td>\n",
              "    </tr>\n",
              "    <tr>\n",
              "      <th>3</th>\n",
              "      <td>4.8</td>\n",
              "      <td>12697.0</td>\n",
              "    </tr>\n",
              "    <tr>\n",
              "      <th>4</th>\n",
              "      <td>4.8</td>\n",
              "      <td>3823.0</td>\n",
              "    </tr>\n",
              "    <tr>\n",
              "      <th>5</th>\n",
              "      <td>4.9</td>\n",
              "      <td>2936.0</td>\n",
              "    </tr>\n",
              "    <tr>\n",
              "      <th>6</th>\n",
              "      <td>4.9</td>\n",
              "      <td>3299.0</td>\n",
              "    </tr>\n",
              "    <tr>\n",
              "      <th>7</th>\n",
              "      <td>4.8</td>\n",
              "      <td>6487.0</td>\n",
              "    </tr>\n",
              "    <tr>\n",
              "      <th>8</th>\n",
              "      <td>4.9</td>\n",
              "      <td>2869.0</td>\n",
              "    </tr>\n",
              "    <tr>\n",
              "      <th>9</th>\n",
              "      <td>4.9</td>\n",
              "      <td>4317.0</td>\n",
              "    </tr>\n",
              "    <tr>\n",
              "      <th>10</th>\n",
              "      <td>4.7</td>\n",
              "      <td>5051.0</td>\n",
              "    </tr>\n",
              "    <tr>\n",
              "      <th>11</th>\n",
              "      <td>4.8</td>\n",
              "      <td>1707.0</td>\n",
              "    </tr>\n",
              "    <tr>\n",
              "      <th>12</th>\n",
              "      <td>4.8</td>\n",
              "      <td>1505.0</td>\n",
              "    </tr>\n",
              "    <tr>\n",
              "      <th>13</th>\n",
              "      <td>4.9</td>\n",
              "      <td>1708.0</td>\n",
              "    </tr>\n",
              "    <tr>\n",
              "      <th>14</th>\n",
              "      <td>4.8</td>\n",
              "      <td>1826.0</td>\n",
              "    </tr>\n",
              "    <tr>\n",
              "      <th>15</th>\n",
              "      <td>4.8</td>\n",
              "      <td>1568.0</td>\n",
              "    </tr>\n",
              "    <tr>\n",
              "      <th>16</th>\n",
              "      <td>4.9</td>\n",
              "      <td>3121.0</td>\n",
              "    </tr>\n",
              "    <tr>\n",
              "      <th>17</th>\n",
              "      <td>4.9</td>\n",
              "      <td>3026.0</td>\n",
              "    </tr>\n",
              "    <tr>\n",
              "      <th>18</th>\n",
              "      <td>4.9</td>\n",
              "      <td>508.0</td>\n",
              "    </tr>\n",
              "    <tr>\n",
              "      <th>19</th>\n",
              "      <td>4.8</td>\n",
              "      <td>3715.0</td>\n",
              "    </tr>\n",
              "  </tbody>\n",
              "</table>\n",
              "</div>\n",
              "      <button class=\"colab-df-convert\" onclick=\"convertToInteractive('df-0ff711aa-386c-48c5-8d63-439862272fca')\"\n",
              "              title=\"Convert this dataframe to an interactive table.\"\n",
              "              style=\"display:none;\">\n",
              "        \n",
              "  <svg xmlns=\"http://www.w3.org/2000/svg\" height=\"24px\"viewBox=\"0 0 24 24\"\n",
              "       width=\"24px\">\n",
              "    <path d=\"M0 0h24v24H0V0z\" fill=\"none\"/>\n",
              "    <path d=\"M18.56 5.44l.94 2.06.94-2.06 2.06-.94-2.06-.94-.94-2.06-.94 2.06-2.06.94zm-11 1L8.5 8.5l.94-2.06 2.06-.94-2.06-.94L8.5 2.5l-.94 2.06-2.06.94zm10 10l.94 2.06.94-2.06 2.06-.94-2.06-.94-.94-2.06-.94 2.06-2.06.94z\"/><path d=\"M17.41 7.96l-1.37-1.37c-.4-.4-.92-.59-1.43-.59-.52 0-1.04.2-1.43.59L10.3 9.45l-7.72 7.72c-.78.78-.78 2.05 0 2.83L4 21.41c.39.39.9.59 1.41.59.51 0 1.02-.2 1.41-.59l7.78-7.78 2.81-2.81c.8-.78.8-2.07 0-2.86zM5.41 20L4 18.59l7.72-7.72 1.47 1.35L5.41 20z\"/>\n",
              "  </svg>\n",
              "      </button>\n",
              "      \n",
              "  <style>\n",
              "    .colab-df-container {\n",
              "      display:flex;\n",
              "      flex-wrap:wrap;\n",
              "      gap: 12px;\n",
              "    }\n",
              "\n",
              "    .colab-df-convert {\n",
              "      background-color: #E8F0FE;\n",
              "      border: none;\n",
              "      border-radius: 50%;\n",
              "      cursor: pointer;\n",
              "      display: none;\n",
              "      fill: #1967D2;\n",
              "      height: 32px;\n",
              "      padding: 0 0 0 0;\n",
              "      width: 32px;\n",
              "    }\n",
              "\n",
              "    .colab-df-convert:hover {\n",
              "      background-color: #E2EBFA;\n",
              "      box-shadow: 0px 1px 2px rgba(60, 64, 67, 0.3), 0px 1px 3px 1px rgba(60, 64, 67, 0.15);\n",
              "      fill: #174EA6;\n",
              "    }\n",
              "\n",
              "    [theme=dark] .colab-df-convert {\n",
              "      background-color: #3B4455;\n",
              "      fill: #D2E3FC;\n",
              "    }\n",
              "\n",
              "    [theme=dark] .colab-df-convert:hover {\n",
              "      background-color: #434B5C;\n",
              "      box-shadow: 0px 1px 3px 1px rgba(0, 0, 0, 0.15);\n",
              "      filter: drop-shadow(0px 1px 2px rgba(0, 0, 0, 0.3));\n",
              "      fill: #FFFFFF;\n",
              "    }\n",
              "  </style>\n",
              "\n",
              "      <script>\n",
              "        const buttonEl =\n",
              "          document.querySelector('#df-0ff711aa-386c-48c5-8d63-439862272fca button.colab-df-convert');\n",
              "        buttonEl.style.display =\n",
              "          google.colab.kernel.accessAllowed ? 'block' : 'none';\n",
              "\n",
              "        async function convertToInteractive(key) {\n",
              "          const element = document.querySelector('#df-0ff711aa-386c-48c5-8d63-439862272fca');\n",
              "          const dataTable =\n",
              "            await google.colab.kernel.invokeFunction('convertToInteractive',\n",
              "                                                     [key], {});\n",
              "          if (!dataTable) return;\n",
              "\n",
              "          const docLinkHtml = 'Like what you see? Visit the ' +\n",
              "            '<a target=\"_blank\" href=https://colab.research.google.com/notebooks/data_table.ipynb>data table notebook</a>'\n",
              "            + ' to learn more about interactive tables.';\n",
              "          element.innerHTML = '';\n",
              "          dataTable['output_type'] = 'display_data';\n",
              "          await google.colab.output.renderOutput(dataTable, element);\n",
              "          const docLink = document.createElement('div');\n",
              "          docLink.innerHTML = docLinkHtml;\n",
              "          element.appendChild(docLink);\n",
              "        }\n",
              "      </script>\n",
              "    </div>\n",
              "  </div>\n",
              "  "
            ]
          },
          "metadata": {},
          "execution_count": 107
        }
      ]
    },
    {
      "cell_type": "markdown",
      "source": [
        "####1. 직접 생각해본 계산\n",
        "\n",
        "1. 가중치 생성 rating_num의 모든 숫자가 0~10으로 생성되게 스케일링 해준다. \n",
        "2. new_rating = scale_rating_num * rating"
      ],
      "metadata": {
        "id": "ZD1hhjwP8wa9"
      }
    },
    {
      "cell_type": "code",
      "source": [
        "weight = (musinsa[\"rating_num\"]/musinsa[\"rating_num\"].max())*10\n",
        "new_rating = weight * musinsa[\"rating\"]\n",
        "new_rating[:20]"
      ],
      "metadata": {
        "colab": {
          "base_uri": "https://localhost:8080/"
        },
        "id": "Gnx0Rf8J04sI",
        "outputId": "0bf18322-0170-48cf-fcbd-e906c636144b"
      },
      "execution_count": null,
      "outputs": [
        {
          "output_type": "execute_result",
          "data": {
            "text/plain": [
              "0     4.663812\n",
              "1     0.978684\n",
              "2     1.147434\n",
              "3     3.823102\n",
              "4     1.151116\n",
              "5     0.902455\n",
              "6     1.014033\n",
              "7     1.953254\n",
              "8     0.881861\n",
              "9     1.326941\n",
              "10    1.489185\n",
              "11    0.513982\n",
              "12    0.453160\n",
              "13    0.524998\n",
              "14    0.549814\n",
              "15    0.472129\n",
              "16    0.959320\n",
              "17    0.930119\n",
              "18    0.156147\n",
              "19    1.118597\n",
              "dtype: float64"
            ]
          },
          "metadata": {},
          "execution_count": 105
        }
      ]
    },
    {
      "cell_type": "markdown",
      "source": [
        "####2. 인터넷 searching \n",
        "출처: https://chan-chance.tistory.com/22"
      ],
      "metadata": {
        "id": "aB0nABIY-5fa"
      }
    },
    {
      "cell_type": "code",
      "source": [
        "# 가중평균\n",
        "def weighted_average(musinsa):\n",
        "    r=musinsa['rating_num']\n",
        "    R=musinsa['rating']\n",
        "    return ( (r/(r+m)*R) ) + ( (m/(m+r)*M)  )\n",
        "\n",
        "# 적용\n",
        "M=np.round(musinsa['rating'].mean(),4)\n",
        "m=musinsa['rating_num'].quantile(0.5)\n",
        "new_rating = musinsa.apply(weighted_average,axis=1)\n",
        "new_rating[:20]"
      ],
      "metadata": {
        "colab": {
          "base_uri": "https://localhost:8080/"
        },
        "id": "nhJ5mPNx-47e",
        "outputId": "725a4403-208c-442b-cdca-ea72d8d7fba2"
      },
      "execution_count": null,
      "outputs": [
        {
          "output_type": "execute_result",
          "data": {
            "text/plain": [
              "0     4.898970\n",
              "1     4.895107\n",
              "2     4.895824\n",
              "3     4.798879\n",
              "4     4.796286\n",
              "5     4.894695\n",
              "6     4.895276\n",
              "7     4.797808\n",
              "8     4.894572\n",
              "9     4.896387\n",
              "10    4.697463\n",
              "11    4.791720\n",
              "12    4.790619\n",
              "13    4.890912\n",
              "14    4.792256\n",
              "15    4.790993\n",
              "16    4.895008\n",
              "17    4.894852\n",
              "18    4.870021\n",
              "19    4.796179\n",
              "dtype: float64"
            ]
          },
          "metadata": {},
          "execution_count": 108
        }
      ]
    },
    {
      "cell_type": "markdown",
      "source": [
        "##4. season"
      ],
      "metadata": {
        "id": "acsW5Muf-Dhv"
      }
    },
    {
      "cell_type": "code",
      "source": [
        "musinsa[\"season\"].isnull().sum()"
      ],
      "metadata": {
        "colab": {
          "base_uri": "https://localhost:8080/"
        },
        "id": "G39mFWVVBT6S",
        "outputId": "b46c3958-ef3e-4768-8f0d-7b4faf43dbb6"
      },
      "execution_count": null,
      "outputs": [
        {
          "output_type": "execute_result",
          "data": {
            "text/plain": [
              "9066"
            ]
          },
          "metadata": {},
          "execution_count": 96
        }
      ]
    },
    {
      "cell_type": "markdown",
      "source": [
        "season은 결측값 대체하기 어렵다. 그냥 그대로 진행"
      ],
      "metadata": {
        "id": "VebDhxQaBbJC"
      }
    },
    {
      "cell_type": "markdown",
      "source": [
        "ALL은 전체 S/S: Spring/Summer의 약자로 봄/여름 시즌을 의미하고, F/W: Fall/Winter 약자이다. "
      ],
      "metadata": {
        "id": "Zro9B6U1-NCl"
      }
    },
    {
      "cell_type": "code",
      "source": [
        "musinsa[\"season\"].unique()"
      ],
      "metadata": {
        "colab": {
          "base_uri": "https://localhost:8080/"
        },
        "id": "MjgjH-Rs4bmF",
        "outputId": "35b0cd33-7154-42e7-bd6d-a0e6e77b1f5f"
      },
      "execution_count": null,
      "outputs": [
        {
          "output_type": "execute_result",
          "data": {
            "text/plain": [
              "array(['2021 ALL', '2022 ALL', nan, '2020 ALL', '2021 S/S', '2019 ALL',\n",
              "       '병행수입', '2022 S/S', 'ALL ALL', '2022', '2017 ALL', '2020 S/S',\n",
              "       '2018 ALL', '2021 F/W', '2022 F/W', 'ALL', '2020 F/W', '2020',\n",
              "       '2016 ALL', '2018 F/W', '2015 ALL', '2017 S/S', '2019 F/W',\n",
              "       'ALL S/S', 'ALL F/W', '2019 S/S', '2018 S/S', '2016 F/W',\n",
              "       '2017 F/W', '2020 SPECIAL', '2023 S/S', '2016 S/S'], dtype=object)"
            ]
          },
          "metadata": {},
          "execution_count": 27
        }
      ]
    },
    {
      "cell_type": "code",
      "source": [
        "musinsa[musinsa[\"season\"].isnull()][\"main_category\"].value_counts()"
      ],
      "metadata": {
        "colab": {
          "base_uri": "https://localhost:8080/"
        },
        "id": "TMC7P5_Y9dXT",
        "outputId": "d1b68c7b-70c7-4e62-a68f-e86e27605e97"
      },
      "execution_count": null,
      "outputs": [
        {
          "output_type": "execute_result",
          "data": {
            "text/plain": [
              "가방       2300\n",
              "아우터      1992\n",
              "하의       1220\n",
              "신발       1079\n",
              "상의       1050\n",
              "모자        693\n",
              "스니커즈      376\n",
              "스커트       258\n",
              "원피스        93\n",
              "스포츠잡화       5\n",
              "Name: main_category, dtype: int64"
            ]
          },
          "metadata": {},
          "execution_count": 128
        }
      ]
    },
    {
      "cell_type": "markdown",
      "source": [
        "1. ALL ALL 과 그냥 ALL 차이 \n",
        "2. ALL과 년도 ALL의 차이 "
      ],
      "metadata": {
        "id": "IrMh4pOc-YN7"
      }
    },
    {
      "cell_type": "code",
      "source": [
        "musinsa[\"season\"].value_counts()"
      ],
      "metadata": {
        "colab": {
          "base_uri": "https://localhost:8080/"
        },
        "id": "S33_EVvw-MGd",
        "outputId": "ef4c6e42-9913-45a2-ab83-2e96815067b2"
      },
      "execution_count": null,
      "outputs": [
        {
          "output_type": "execute_result",
          "data": {
            "text/plain": [
              "2022 S/S        12984\n",
              "2021 F/W        10466\n",
              "2021 ALL         8265\n",
              "2022 ALL         7421\n",
              "2021 S/S         4884\n",
              "2020 ALL         3857\n",
              "2020 F/W         2806\n",
              "2020 S/S         1416\n",
              "2019 ALL          893\n",
              "ALL ALL           792\n",
              "2018 ALL          456\n",
              "2019 F/W          422\n",
              "ALL               382\n",
              "ALL F/W           350\n",
              "ALL S/S           290\n",
              "병행수입              280\n",
              "2018 F/W          112\n",
              "2017 ALL          101\n",
              "2022 F/W           94\n",
              "2016 ALL           78\n",
              "2019 S/S           75\n",
              "2018 S/S           13\n",
              "2016 F/W           13\n",
              "2022               12\n",
              "2017 F/W           12\n",
              "2017 S/S            5\n",
              "2020                2\n",
              "2023 S/S            1\n",
              "2015 ALL            1\n",
              "2020 SPECIAL        1\n",
              "2016 S/S            1\n",
              "Name: season, dtype: int64"
            ]
          },
          "metadata": {},
          "execution_count": 98
        }
      ]
    },
    {
      "cell_type": "markdown",
      "source": [
        "확실히 최근 시즌 제품들 제일 많다. 시즌이 많이 지난 제품들은 아마 전체 품목이 크롤링 된 경우의 상품일 것이라 생각된다. 상의나 하의품목 등은 상품수가 많아 10페이지까지 끌어모으면 리뷰수도 많고, 최신 상품들이 많이 끌어와지지만, 적은 상품을 가지고 있는 품목들은 10페이지도 안돼 모든 상품이 끌어모아졌다. "
      ],
      "metadata": {
        "id": "bsE3V9x_-n9O"
      }
    },
    {
      "cell_type": "markdown",
      "source": [
        "##5. gender"
      ],
      "metadata": {
        "id": "m9Ar41ua_OvQ"
      }
    },
    {
      "cell_type": "code",
      "source": [
        "musinsa[\"gender\"].isnull().sum()"
      ],
      "metadata": {
        "colab": {
          "base_uri": "https://localhost:8080/"
        },
        "id": "TgZiqOYcBifm",
        "outputId": "33744401-2b4e-4305-cbaf-f10007beba4a"
      },
      "execution_count": null,
      "outputs": [
        {
          "output_type": "execute_result",
          "data": {
            "text/plain": [
              "0"
            ]
          },
          "metadata": {},
          "execution_count": 99
        }
      ]
    },
    {
      "cell_type": "code",
      "source": [
        "musinsa[\"gender\"].unique()"
      ],
      "metadata": {
        "colab": {
          "base_uri": "https://localhost:8080/"
        },
        "id": "SQNKpzhU-jCJ",
        "outputId": "a9a008fb-eb59-42b4-d7e7-39cd74b04483"
      },
      "execution_count": null,
      "outputs": [
        {
          "output_type": "execute_result",
          "data": {
            "text/plain": [
              "array([\"['남', '여']\", \"['남']\", \"['여']\", \"['라이프']\", \"['남', '아동']\",\n",
              "       \"['남', '여', '아동']\", \"['남', '여', '라이프']\", \"['여', '아동']\"],\n",
              "      dtype=object)"
            ]
          },
          "metadata": {},
          "execution_count": 100
        }
      ]
    },
    {
      "cell_type": "markdown",
      "source": [
        "gender에는 \"남\", \"여\", \"라이프\", \"아동\" 이 있다. "
      ],
      "metadata": {
        "id": "PXOVMVwOilx6"
      }
    },
    {
      "cell_type": "markdown",
      "source": [
        "##6. like"
      ],
      "metadata": {
        "id": "m8QRwM31_bM6"
      }
    },
    {
      "cell_type": "code",
      "source": [
        "musinsa[\"like\"].isnull().sum()"
      ],
      "metadata": {
        "colab": {
          "base_uri": "https://localhost:8080/"
        },
        "id": "39lhptWiBui8",
        "outputId": "2032a46c-a499-4ec7-9efa-5ff5b744e26e"
      },
      "execution_count": null,
      "outputs": [
        {
          "output_type": "execute_result",
          "data": {
            "text/plain": [
              "0"
            ]
          },
          "metadata": {},
          "execution_count": 102
        }
      ]
    },
    {
      "cell_type": "code",
      "source": [
        "musinsa[\"like\"]  #dtype가 object -> int로 바꿔준다. "
      ],
      "metadata": {
        "colab": {
          "base_uri": "https://localhost:8080/"
        },
        "id": "hq1-YIom_agI",
        "outputId": "0585b267-9ac7-49b5-d062-394d1c431688"
      },
      "execution_count": null,
      "outputs": [
        {
          "output_type": "execute_result",
          "data": {
            "text/plain": [
              "0        35,679\n",
              "1        23,982\n",
              "2        20,481\n",
              "3        27,844\n",
              "4        15,322\n",
              "          ...  \n",
              "65546       700\n",
              "65547       328\n",
              "65548       752\n",
              "65549       268\n",
              "65550       347\n",
              "Name: like, Length: 65551, dtype: object"
            ]
          },
          "metadata": {},
          "execution_count": 30
        }
      ]
    },
    {
      "cell_type": "code",
      "source": [
        "musinsa[\"like\"] = musinsa[\"like\"].str.replace(',', '').astype(int)\n",
        "musinsa[\"like\"].describe()"
      ],
      "metadata": {
        "colab": {
          "base_uri": "https://localhost:8080/"
        },
        "id": "pW25Breu_VTX",
        "outputId": "4150d5f4-b638-40c2-f538-99827ef751d4"
      },
      "execution_count": null,
      "outputs": [
        {
          "output_type": "execute_result",
          "data": {
            "text/plain": [
              "count     65551.000000\n",
              "mean        915.027871\n",
              "std        3564.787429\n",
              "min           0.000000\n",
              "25%          41.000000\n",
              "50%         164.000000\n",
              "75%         553.000000\n",
              "max      191825.000000\n",
              "Name: like, dtype: float64"
            ]
          },
          "metadata": {},
          "execution_count": 31
        }
      ]
    },
    {
      "cell_type": "code",
      "source": [
        "plt.boxplot(musinsa[\"like\"], vert=0)\n",
        "plt.xlim([0, 1500]) \n",
        "plt.show()"
      ],
      "metadata": {
        "colab": {
          "base_uri": "https://localhost:8080/",
          "height": 265
        },
        "id": "W5Irt7Qdlc3l",
        "outputId": "7797917c-1fa1-4952-88a9-dc5c2b35bbe8"
      },
      "execution_count": null,
      "outputs": [
        {
          "output_type": "display_data",
          "data": {
            "text/plain": [
              "<Figure size 432x288 with 1 Axes>"
            ],
            "image/png": "[encoded data removed]"
          },
          "metadata": {
            "needs_background": "light"
          }
        }
      ]
    },
    {
      "cell_type": "markdown",
      "source": [
        "한쪽으로 엄청 치우쳐져 있다. "
      ],
      "metadata": {
        "id": "DoMfwnjhmQ2M"
      }
    },
    {
      "cell_type": "markdown",
      "source": [
        "좋아요 수와, 평점에도 관련이 있을지 확인해본다. "
      ],
      "metadata": {
        "id": "zSf3-dq8ACD7"
      }
    },
    {
      "cell_type": "code",
      "source": [
        "plt.figure(figsize=(10,8))\n",
        "plt.scatter(x = musinsa[\"rating\"], y = musinsa[\"like\"], s=10)"
      ],
      "metadata": {
        "colab": {
          "base_uri": "https://localhost:8080/",
          "height": 502
        },
        "id": "xKGP-vNd_pWN",
        "outputId": "33ba5a8b-1e6d-462c-b524-bfa052cd178b"
      },
      "execution_count": null,
      "outputs": [
        {
          "output_type": "execute_result",
          "data": {
            "text/plain": [
              "<matplotlib.collections.PathCollection at 0x7f1fd1156310>"
            ]
          },
          "metadata": {},
          "execution_count": 32
        },
        {
          "output_type": "display_data",
          "data": {
            "text/plain": [
              "<Figure size 720x576 with 1 Axes>"
            ],
            "image/png": "[encoded data removed]"
          },
          "metadata": {
            "needs_background": "light"
          }
        }
      ]
    },
    {
      "cell_type": "markdown",
      "source": [
        "평점이 낮은건 좋아요 개수가 낮다는 것을 알 수 있지만, 좋아요 수는 직접 구매한 후기 평점과는 차이가 있다. 따로 보는게 좋을듯? 좋아요 수는 유행 또는 인기 상품일 가능성 "
      ],
      "metadata": {
        "id": "SoA5Uty4AnfN"
      }
    },
    {
      "cell_type": "markdown",
      "source": [
        "##7. view"
      ],
      "metadata": {
        "id": "BUqvYzwJBD3Z"
      }
    },
    {
      "cell_type": "code",
      "source": [
        "musinsa[\"view\"]"
      ],
      "metadata": {
        "colab": {
          "base_uri": "https://localhost:8080/"
        },
        "id": "6IHlyc5tAahz",
        "outputId": "3874bcbf-f1e4-479e-c37a-9d3231fc948b"
      },
      "execution_count": null,
      "outputs": [
        {
          "output_type": "execute_result",
          "data": {
            "text/plain": [
              "0         40000\n",
              "1        260000\n",
              "2        160000\n",
              "3        110000\n",
              "4        160000\n",
              "          ...  \n",
              "65546       800\n",
              "65547     14000\n",
              "65548     28000\n",
              "65549       700\n",
              "65550       400\n",
              "Name: view, Length: 65551, dtype: int64"
            ]
          },
          "metadata": {},
          "execution_count": 103
        }
      ]
    },
    {
      "cell_type": "markdown",
      "source": [
        "텍스트값으로 되어있으므로, 숫자로 바꿔준다. 기본값을 숫자 값 이상이라고 생각한다."
      ],
      "metadata": {
        "id": "FzgUHgvTDGkP"
      }
    },
    {
      "cell_type": "code",
      "source": [
        "musinsa[\"view\"] = musinsa[\"view\"].str.replace('만 회 이상', '0000').str.replace('천 회 이상', '000').str.replace(\"회 이상\", '')"
      ],
      "metadata": {
        "id": "JKL8loN6DD8i"
      },
      "execution_count": null,
      "outputs": []
    },
    {
      "cell_type": "code",
      "source": [
        "#결측값 0으로 \n",
        "musinsa[\"view\"].fillna('0', inplace=True)"
      ],
      "metadata": {
        "id": "s6h1xxoPDWgG"
      },
      "execution_count": null,
      "outputs": []
    },
    {
      "cell_type": "code",
      "source": [
        "musinsa[\"view\"] = musinsa[\"view\"].str.replace('.', '').astype(int)"
      ],
      "metadata": {
        "colab": {
          "base_uri": "https://localhost:8080/"
        },
        "id": "8Or_xlzxDZt9",
        "outputId": "ec004387-1614-4587-8ae3-3e66330f4c7b"
      },
      "execution_count": null,
      "outputs": [
        {
          "output_type": "stream",
          "name": "stderr",
          "text": [
            "/usr/local/lib/python3.7/dist-packages/ipykernel_launcher.py:1: FutureWarning: The default value of regex will change from True to False in a future version. In addition, single character regular expressions will *not* be treated as literal strings when regex=True.\n",
            "  \"\"\"Entry point for launching an IPython kernel.\n"
          ]
        }
      ]
    },
    {
      "cell_type": "code",
      "source": [
        "musinsa[\"view\"].describe()"
      ],
      "metadata": {
        "colab": {
          "base_uri": "https://localhost:8080/"
        },
        "id": "T0KEqooXDbor",
        "outputId": "7040df2a-f124-4dd0-c86e-df7f0312ed46"
      },
      "execution_count": null,
      "outputs": [
        {
          "output_type": "execute_result",
          "data": {
            "text/plain": [
              "count    6.555100e+04\n",
              "mean     1.375162e+04\n",
              "std      7.403555e+04\n",
              "min      0.000000e+00\n",
              "25%      0.000000e+00\n",
              "50%      5.000000e+02\n",
              "75%      1.200000e+04\n",
              "max      6.070000e+06\n",
              "Name: view, dtype: float64"
            ]
          },
          "metadata": {},
          "execution_count": 37
        }
      ]
    },
    {
      "cell_type": "code",
      "source": [
        "plt.boxplot(musinsa[\"view\"], vert=0)\n",
        "plt.show()"
      ],
      "metadata": {
        "colab": {
          "base_uri": "https://localhost:8080/",
          "height": 278
        },
        "id": "niTsUQyNmwFn",
        "outputId": "af5f6611-5482-41ff-9fba-de0ed61c4bb3"
      },
      "execution_count": null,
      "outputs": [
        {
          "output_type": "display_data",
          "data": {
            "text/plain": [
              "<Figure size 432x288 with 1 Axes>"
            ],
            "image/png": "[encoded data removed]"
          },
          "metadata": {
            "needs_background": "light"
          }
        }
      ]
    },
    {
      "cell_type": "code",
      "source": [
        "import seaborn as sns\n",
        "\n",
        "sns.boxplot(musinsa[\"view\"])"
      ],
      "metadata": {
        "id": "ba7lrDUQEsBD",
        "colab": {
          "base_uri": "https://localhost:8080/",
          "height": 353
        },
        "outputId": "e4bfc797-1ebf-4fc9-e6af-55542d792ff8"
      },
      "execution_count": null,
      "outputs": [
        {
          "output_type": "stream",
          "name": "stderr",
          "text": [
            "/usr/local/lib/python3.7/dist-packages/seaborn/_decorators.py:43: FutureWarning: Pass the following variable as a keyword arg: x. From version 0.12, the only valid positional argument will be `data`, and passing other arguments without an explicit keyword will result in an error or misinterpretation.\n",
            "  FutureWarning\n"
          ]
        },
        {
          "output_type": "execute_result",
          "data": {
            "text/plain": [
              "<matplotlib.axes._subplots.AxesSubplot at 0x7f1fce809e50>"
            ]
          },
          "metadata": {},
          "execution_count": 54
        },
        {
          "output_type": "display_data",
          "data": {
            "text/plain": [
              "<Figure size 432x288 with 1 Axes>"
            ],
            "image/png": "[encoded data removed]"
          },
          "metadata": {
            "needs_background": "light"
          }
        }
      ]
    },
    {
      "cell_type": "markdown",
      "source": [
        "##8. sale"
      ],
      "metadata": {
        "id": "ZApiM1RcEXCo"
      }
    },
    {
      "cell_type": "markdown",
      "source": [
        "sale도 like와 동일한 방식으로 전처리 진행한다. sale은 50개 미만이 있다. 그 부분 0이상으로 처리 한다. "
      ],
      "metadata": {
        "id": "mX85iJiFEvoC"
      }
    },
    {
      "cell_type": "code",
      "source": [
        "musinsa[\"sale\"] = musinsa[\"sale\"].str.replace(\"만 개 이상\", \"0000\").str.replace(\"천 개 이상\", \"000\").str.replace(\"개 이상\",\"\").str.replace(\"50개 미만\", \"0\")"
      ],
      "metadata": {
        "id": "zpU8Wx3oFTMS"
      },
      "execution_count": null,
      "outputs": []
    },
    {
      "cell_type": "code",
      "source": [
        "musinsa[\"sale\"].fillna('0', inplace=True) "
      ],
      "metadata": {
        "id": "sLD1sDA-E78O"
      },
      "execution_count": null,
      "outputs": []
    },
    {
      "cell_type": "code",
      "source": [
        "musinsa[\"sale\"] = musinsa[\"sale\"].str.replace('.', '').astype(int)"
      ],
      "metadata": {
        "id": "oV4SHELjFCz5",
        "colab": {
          "base_uri": "https://localhost:8080/"
        },
        "outputId": "9f6861a1-2d97-431b-99b7-10e4171a202b"
      },
      "execution_count": null,
      "outputs": [
        {
          "output_type": "stream",
          "name": "stderr",
          "text": [
            "/usr/local/lib/python3.7/dist-packages/ipykernel_launcher.py:1: FutureWarning: The default value of regex will change from True to False in a future version. In addition, single character regular expressions will *not* be treated as literal strings when regex=True.\n",
            "  \"\"\"Entry point for launching an IPython kernel.\n"
          ]
        }
      ]
    },
    {
      "cell_type": "code",
      "source": [
        "musinsa[\"sale\"].describe()"
      ],
      "metadata": {
        "id": "6sGdljJZFEbR",
        "colab": {
          "base_uri": "https://localhost:8080/"
        },
        "outputId": "a6d5f38b-8275-4a4f-d5bb-66715a7bce54"
      },
      "execution_count": null,
      "outputs": [
        {
          "output_type": "execute_result",
          "data": {
            "text/plain": [
              "count    6.555100e+04\n",
              "mean     2.659790e+03\n",
              "std      2.584396e+04\n",
              "min      0.000000e+00\n",
              "25%      0.000000e+00\n",
              "50%      0.000000e+00\n",
              "75%      1.000000e+02\n",
              "max      2.420000e+06\n",
              "Name: sale, dtype: float64"
            ]
          },
          "metadata": {},
          "execution_count": 58
        }
      ]
    },
    {
      "cell_type": "markdown",
      "source": [
        "##9. coordi"
      ],
      "metadata": {
        "id": "N5diDFpNFGH2"
      }
    },
    {
      "cell_type": "code",
      "source": [
        "a = []\n",
        "num_na = 0\n",
        "\n",
        "for i in musinsa[\"coordi\"]:\n",
        "    try:\n",
        "        li = ast.literal_eval(i)\n",
        "        for j in li:\n",
        "            a.append(j)\n",
        "    except:\n",
        "        num_na += 1"
      ],
      "metadata": {
        "id": "2mKTbdUaFFlM"
      },
      "execution_count": null,
      "outputs": []
    },
    {
      "cell_type": "code",
      "source": [
        "print(len(a))\n",
        "print(len(list(set(a))))\n",
        "print(num_na)"
      ],
      "metadata": {
        "id": "7gtOsuKuFKiZ",
        "colab": {
          "base_uri": "https://localhost:8080/"
        },
        "outputId": "6dd16efc-9721-4d69-c114-33de8a4b88d9"
      },
      "execution_count": null,
      "outputs": [
        {
          "output_type": "stream",
          "name": "stdout",
          "text": [
            "27901\n",
            "12\n",
            "44945\n"
          ]
        }
      ]
    },
    {
      "cell_type": "markdown",
      "source": [
        "코디 고유값 12개: (\"아메리칸 캐주얼\", \"캐주얼\", \"시크\", \"댄디\", \"포멀\", \"걸리시\", \"골프\", \"홈웨어\", \"레트로\", \"로맨틱\", \"스포츠\", \"스트릿\")\n",
        "\n",
        "44945가 결측값이다. \n",
        "\n",
        "1. 코디도 태그와 마찬가지고 TF-IDF로 점수 매긴다. \n",
        "2. 결측값 대체할건지 그냥 진행할건지"
      ],
      "metadata": {
        "id": "28-1bde6npSd"
      }
    }
  ]
}
